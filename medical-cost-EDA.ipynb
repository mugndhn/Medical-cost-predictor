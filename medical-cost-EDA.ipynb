{
 "cells": [
  {
   "cell_type": "code",
   "execution_count": null,
   "id": "9b999ca1",
   "metadata": {
    "papermill": {
     "duration": 0.023077,
     "end_time": "2021-12-23T20:34:25.772889",
     "exception": false,
     "start_time": "2021-12-23T20:34:25.749812",
     "status": "completed"
    },
    "tags": []
   },
   "outputs": [],
   "source": []
  },
  {
   "cell_type": "code",
   "execution_count": 1,
   "id": "94b216ec",
   "metadata": {
    "_cell_guid": "b1076dfc-b9ad-4769-8c92-a6c4dae69d19",
    "_uuid": "8f2839f25d086af736a60e9eeb907d3b93b6e0e5",
    "execution": {
     "iopub.execute_input": "2021-12-23T20:34:25.820018Z",
     "iopub.status.busy": "2021-12-23T20:34:25.818784Z",
     "iopub.status.idle": "2021-12-23T20:34:25.840714Z",
     "shell.execute_reply": "2021-12-23T20:34:25.841320Z",
     "shell.execute_reply.started": "2021-12-23T20:32:23.754257Z"
    },
    "papermill": {
     "duration": 0.046398,
     "end_time": "2021-12-23T20:34:25.841675",
     "exception": false,
     "start_time": "2021-12-23T20:34:25.795277",
     "status": "completed"
    },
    "tags": []
   },
   "outputs": [
    {
     "name": "stdout",
     "output_type": "stream",
     "text": [
      "/kaggle/input/insurance/insurance.csv\n"
     ]
    }
   ],
   "source": [
    "# This Python 3 environment comes with many helpful analytics libraries installed\n",
    "# It is defined by the kaggle/python Docker image: https://github.com/kaggle/docker-python\n",
    "# For example, here's several helpful packages to load\n",
    "\n",
    "import numpy as np # linear algebra\n",
    "import pandas as pd # data processing, CSV file I/O (e.g. pd.read_csv)\n",
    "import matplotlib.pyplot as plt\n",
    "# Input data files are available in the read-only \"../input/\" directory\n",
    "# For example, running this (by clicking run or pressing Shift+Enter) will list all files under the input directory\n",
    "\n",
    "import os\n",
    "for dirname, _, filenames in os.walk('/kaggle/input'):\n",
    "    for filename in filenames:\n",
    "        print(os.path.join(dirname, filename))\n",
    "\n",
    "# You can write up to 20GB to the current directory (/kaggle/working/) that gets preserved as output when you create a version using \"Save & Run All\" \n",
    "# You can also write temporary files to /kaggle/temp/, but they won't be saved outside of the current session"
   ]
  },
  {
   "cell_type": "code",
   "execution_count": 2,
   "id": "c3b24d78",
   "metadata": {
    "execution": {
     "iopub.execute_input": "2021-12-23T20:34:25.888223Z",
     "iopub.status.busy": "2021-12-23T20:34:25.887237Z",
     "iopub.status.idle": "2021-12-23T20:34:25.910424Z",
     "shell.execute_reply": "2021-12-23T20:34:25.909752Z",
     "shell.execute_reply.started": "2021-12-23T20:32:23.767129Z"
    },
    "papermill": {
     "duration": 0.046966,
     "end_time": "2021-12-23T20:34:25.910592",
     "exception": false,
     "start_time": "2021-12-23T20:34:25.863626",
     "status": "completed"
    },
    "tags": []
   },
   "outputs": [],
   "source": [
    "df = pd.read_csv(\"/kaggle/input/insurance/insurance.csv\")"
   ]
  },
  {
   "cell_type": "code",
   "execution_count": 3,
   "id": "2250191b",
   "metadata": {
    "execution": {
     "iopub.execute_input": "2021-12-23T20:34:25.955375Z",
     "iopub.status.busy": "2021-12-23T20:34:25.954687Z",
     "iopub.status.idle": "2021-12-23T20:34:25.975524Z",
     "shell.execute_reply": "2021-12-23T20:34:25.974906Z",
     "shell.execute_reply.started": "2021-12-23T20:32:23.784935Z"
    },
    "papermill": {
     "duration": 0.044542,
     "end_time": "2021-12-23T20:34:25.975685",
     "exception": false,
     "start_time": "2021-12-23T20:34:25.931143",
     "status": "completed"
    },
    "tags": []
   },
   "outputs": [
    {
     "data": {
      "text/html": [
       "<div>\n",
       "<style scoped>\n",
       "    .dataframe tbody tr th:only-of-type {\n",
       "        vertical-align: middle;\n",
       "    }\n",
       "\n",
       "    .dataframe tbody tr th {\n",
       "        vertical-align: top;\n",
       "    }\n",
       "\n",
       "    .dataframe thead th {\n",
       "        text-align: right;\n",
       "    }\n",
       "</style>\n",
       "<table border=\"1\" class=\"dataframe\">\n",
       "  <thead>\n",
       "    <tr style=\"text-align: right;\">\n",
       "      <th></th>\n",
       "      <th>age</th>\n",
       "      <th>sex</th>\n",
       "      <th>bmi</th>\n",
       "      <th>children</th>\n",
       "      <th>smoker</th>\n",
       "      <th>region</th>\n",
       "      <th>charges</th>\n",
       "    </tr>\n",
       "  </thead>\n",
       "  <tbody>\n",
       "    <tr>\n",
       "      <th>0</th>\n",
       "      <td>19</td>\n",
       "      <td>female</td>\n",
       "      <td>27.900</td>\n",
       "      <td>0</td>\n",
       "      <td>yes</td>\n",
       "      <td>southwest</td>\n",
       "      <td>16884.92400</td>\n",
       "    </tr>\n",
       "    <tr>\n",
       "      <th>1</th>\n",
       "      <td>18</td>\n",
       "      <td>male</td>\n",
       "      <td>33.770</td>\n",
       "      <td>1</td>\n",
       "      <td>no</td>\n",
       "      <td>southeast</td>\n",
       "      <td>1725.55230</td>\n",
       "    </tr>\n",
       "    <tr>\n",
       "      <th>2</th>\n",
       "      <td>28</td>\n",
       "      <td>male</td>\n",
       "      <td>33.000</td>\n",
       "      <td>3</td>\n",
       "      <td>no</td>\n",
       "      <td>southeast</td>\n",
       "      <td>4449.46200</td>\n",
       "    </tr>\n",
       "    <tr>\n",
       "      <th>3</th>\n",
       "      <td>33</td>\n",
       "      <td>male</td>\n",
       "      <td>22.705</td>\n",
       "      <td>0</td>\n",
       "      <td>no</td>\n",
       "      <td>northwest</td>\n",
       "      <td>21984.47061</td>\n",
       "    </tr>\n",
       "    <tr>\n",
       "      <th>4</th>\n",
       "      <td>32</td>\n",
       "      <td>male</td>\n",
       "      <td>28.880</td>\n",
       "      <td>0</td>\n",
       "      <td>no</td>\n",
       "      <td>northwest</td>\n",
       "      <td>3866.85520</td>\n",
       "    </tr>\n",
       "  </tbody>\n",
       "</table>\n",
       "</div>"
      ],
      "text/plain": [
       "   age     sex     bmi  children smoker     region      charges\n",
       "0   19  female  27.900         0    yes  southwest  16884.92400\n",
       "1   18    male  33.770         1     no  southeast   1725.55230\n",
       "2   28    male  33.000         3     no  southeast   4449.46200\n",
       "3   33    male  22.705         0     no  northwest  21984.47061\n",
       "4   32    male  28.880         0     no  northwest   3866.85520"
      ]
     },
     "execution_count": 3,
     "metadata": {},
     "output_type": "execute_result"
    }
   ],
   "source": [
    "df.head()"
   ]
  },
  {
   "cell_type": "code",
   "execution_count": 4,
   "id": "2ac540e4",
   "metadata": {
    "execution": {
     "iopub.execute_input": "2021-12-23T20:34:26.032984Z",
     "iopub.status.busy": "2021-12-23T20:34:26.032172Z",
     "iopub.status.idle": "2021-12-23T20:34:26.035459Z",
     "shell.execute_reply": "2021-12-23T20:34:26.035957Z",
     "shell.execute_reply.started": "2021-12-23T20:32:23.801763Z"
    },
    "papermill": {
     "duration": 0.039677,
     "end_time": "2021-12-23T20:34:26.036197",
     "exception": false,
     "start_time": "2021-12-23T20:34:25.996520",
     "status": "completed"
    },
    "tags": []
   },
   "outputs": [
    {
     "data": {
      "text/plain": [
       "array(['southwest', 'southeast', 'northwest', 'northeast'], dtype=object)"
      ]
     },
     "execution_count": 4,
     "metadata": {},
     "output_type": "execute_result"
    }
   ],
   "source": [
    "df['region'].unique()"
   ]
  },
  {
   "cell_type": "code",
   "execution_count": 5,
   "id": "d64c91ad",
   "metadata": {
    "execution": {
     "iopub.execute_input": "2021-12-23T20:34:26.083666Z",
     "iopub.status.busy": "2021-12-23T20:34:26.082710Z",
     "iopub.status.idle": "2021-12-23T20:34:26.088795Z",
     "shell.execute_reply": "2021-12-23T20:34:26.089285Z",
     "shell.execute_reply.started": "2021-12-23T20:32:23.811303Z"
    },
    "papermill": {
     "duration": 0.031585,
     "end_time": "2021-12-23T20:34:26.089478",
     "exception": false,
     "start_time": "2021-12-23T20:34:26.057893",
     "status": "completed"
    },
    "tags": []
   },
   "outputs": [
    {
     "data": {
      "text/plain": [
       "array([0, 1, 3, 2, 5, 4])"
      ]
     },
     "execution_count": 5,
     "metadata": {},
     "output_type": "execute_result"
    }
   ],
   "source": [
    "df['children'].unique()"
   ]
  },
  {
   "cell_type": "code",
   "execution_count": 6,
   "id": "3c372058",
   "metadata": {
    "execution": {
     "iopub.execute_input": "2021-12-23T20:34:26.136748Z",
     "iopub.status.busy": "2021-12-23T20:34:26.135745Z",
     "iopub.status.idle": "2021-12-23T20:34:26.142396Z",
     "shell.execute_reply": "2021-12-23T20:34:26.142856Z",
     "shell.execute_reply.started": "2021-12-23T20:32:23.828569Z"
    },
    "papermill": {
     "duration": 0.032151,
     "end_time": "2021-12-23T20:34:26.143069",
     "exception": false,
     "start_time": "2021-12-23T20:34:26.110918",
     "status": "completed"
    },
    "tags": []
   },
   "outputs": [
    {
     "data": {
      "text/plain": [
       "array(['yes', 'no'], dtype=object)"
      ]
     },
     "execution_count": 6,
     "metadata": {},
     "output_type": "execute_result"
    }
   ],
   "source": [
    "df['smoker'].unique()"
   ]
  },
  {
   "cell_type": "code",
   "execution_count": 7,
   "id": "39043512",
   "metadata": {
    "execution": {
     "iopub.execute_input": "2021-12-23T20:34:26.191122Z",
     "iopub.status.busy": "2021-12-23T20:34:26.190106Z",
     "iopub.status.idle": "2021-12-23T20:34:26.199494Z",
     "shell.execute_reply": "2021-12-23T20:34:26.199992Z",
     "shell.execute_reply.started": "2021-12-23T20:32:23.842020Z"
    },
    "papermill": {
     "duration": 0.035462,
     "end_time": "2021-12-23T20:34:26.200231",
     "exception": false,
     "start_time": "2021-12-23T20:34:26.164769",
     "status": "completed"
    },
    "tags": []
   },
   "outputs": [
    {
     "data": {
      "text/plain": [
       "age         0\n",
       "sex         0\n",
       "bmi         0\n",
       "children    0\n",
       "smoker      0\n",
       "region      0\n",
       "charges     0\n",
       "dtype: int64"
      ]
     },
     "execution_count": 7,
     "metadata": {},
     "output_type": "execute_result"
    }
   ],
   "source": [
    "# find the number of null values in the dataframe\n",
    "df.isnull().sum()"
   ]
  },
  {
   "cell_type": "code",
   "execution_count": 8,
   "id": "caa2dfc3",
   "metadata": {
    "execution": {
     "iopub.execute_input": "2021-12-23T20:34:26.251613Z",
     "iopub.status.busy": "2021-12-23T20:34:26.250893Z",
     "iopub.status.idle": "2021-12-23T20:34:26.258285Z",
     "shell.execute_reply": "2021-12-23T20:34:26.258884Z",
     "shell.execute_reply.started": "2021-12-23T20:32:23.859483Z"
    },
    "papermill": {
     "duration": 0.03625,
     "end_time": "2021-12-23T20:34:26.259066",
     "exception": false,
     "start_time": "2021-12-23T20:34:26.222816",
     "status": "completed"
    },
    "tags": []
   },
   "outputs": [],
   "source": [
    "dup = df[df.duplicated()]"
   ]
  },
  {
   "cell_type": "code",
   "execution_count": 9,
   "id": "d411c408",
   "metadata": {
    "execution": {
     "iopub.execute_input": "2021-12-23T20:34:26.318146Z",
     "iopub.status.busy": "2021-12-23T20:34:26.317483Z",
     "iopub.status.idle": "2021-12-23T20:34:26.321241Z",
     "shell.execute_reply": "2021-12-23T20:34:26.321773Z",
     "shell.execute_reply.started": "2021-12-23T20:32:23.874693Z"
    },
    "papermill": {
     "duration": 0.039715,
     "end_time": "2021-12-23T20:34:26.321956",
     "exception": false,
     "start_time": "2021-12-23T20:34:26.282241",
     "status": "completed"
    },
    "tags": []
   },
   "outputs": [
    {
     "data": {
      "text/html": [
       "<div>\n",
       "<style scoped>\n",
       "    .dataframe tbody tr th:only-of-type {\n",
       "        vertical-align: middle;\n",
       "    }\n",
       "\n",
       "    .dataframe tbody tr th {\n",
       "        vertical-align: top;\n",
       "    }\n",
       "\n",
       "    .dataframe thead th {\n",
       "        text-align: right;\n",
       "    }\n",
       "</style>\n",
       "<table border=\"1\" class=\"dataframe\">\n",
       "  <thead>\n",
       "    <tr style=\"text-align: right;\">\n",
       "      <th></th>\n",
       "      <th>age</th>\n",
       "      <th>sex</th>\n",
       "      <th>bmi</th>\n",
       "      <th>children</th>\n",
       "      <th>smoker</th>\n",
       "      <th>region</th>\n",
       "      <th>charges</th>\n",
       "    </tr>\n",
       "  </thead>\n",
       "  <tbody>\n",
       "    <tr>\n",
       "      <th>581</th>\n",
       "      <td>19</td>\n",
       "      <td>male</td>\n",
       "      <td>30.59</td>\n",
       "      <td>0</td>\n",
       "      <td>no</td>\n",
       "      <td>northwest</td>\n",
       "      <td>1639.5631</td>\n",
       "    </tr>\n",
       "  </tbody>\n",
       "</table>\n",
       "</div>"
      ],
      "text/plain": [
       "     age   sex    bmi  children smoker     region    charges\n",
       "581   19  male  30.59         0     no  northwest  1639.5631"
      ]
     },
     "execution_count": 9,
     "metadata": {},
     "output_type": "execute_result"
    }
   ],
   "source": [
    "dup"
   ]
  },
  {
   "cell_type": "code",
   "execution_count": 10,
   "id": "518e9864",
   "metadata": {
    "execution": {
     "iopub.execute_input": "2021-12-23T20:34:26.370842Z",
     "iopub.status.busy": "2021-12-23T20:34:26.370178Z",
     "iopub.status.idle": "2021-12-23T20:34:26.377290Z",
     "shell.execute_reply": "2021-12-23T20:34:26.377815Z",
     "shell.execute_reply.started": "2021-12-23T20:32:23.897095Z"
    },
    "papermill": {
     "duration": 0.033368,
     "end_time": "2021-12-23T20:34:26.377999",
     "exception": false,
     "start_time": "2021-12-23T20:34:26.344631",
     "status": "completed"
    },
    "tags": []
   },
   "outputs": [],
   "source": [
    "# replace dulpicate rows in the dataframe\n",
    "df.drop_duplicates(inplace=True)"
   ]
  },
  {
   "cell_type": "code",
   "execution_count": 11,
   "id": "a759114e",
   "metadata": {
    "execution": {
     "iopub.execute_input": "2021-12-23T20:34:26.427569Z",
     "iopub.status.busy": "2021-12-23T20:34:26.426803Z",
     "iopub.status.idle": "2021-12-23T20:34:26.440508Z",
     "shell.execute_reply": "2021-12-23T20:34:26.441026Z",
     "shell.execute_reply.started": "2021-12-23T20:32:23.911697Z"
    },
    "papermill": {
     "duration": 0.040029,
     "end_time": "2021-12-23T20:34:26.441254",
     "exception": false,
     "start_time": "2021-12-23T20:34:26.401225",
     "status": "completed"
    },
    "tags": []
   },
   "outputs": [
    {
     "data": {
      "text/html": [
       "<div>\n",
       "<style scoped>\n",
       "    .dataframe tbody tr th:only-of-type {\n",
       "        vertical-align: middle;\n",
       "    }\n",
       "\n",
       "    .dataframe tbody tr th {\n",
       "        vertical-align: top;\n",
       "    }\n",
       "\n",
       "    .dataframe thead th {\n",
       "        text-align: right;\n",
       "    }\n",
       "</style>\n",
       "<table border=\"1\" class=\"dataframe\">\n",
       "  <thead>\n",
       "    <tr style=\"text-align: right;\">\n",
       "      <th></th>\n",
       "      <th>age</th>\n",
       "      <th>sex</th>\n",
       "      <th>bmi</th>\n",
       "      <th>children</th>\n",
       "      <th>smoker</th>\n",
       "      <th>region</th>\n",
       "      <th>charges</th>\n",
       "    </tr>\n",
       "  </thead>\n",
       "  <tbody>\n",
       "    <tr>\n",
       "      <th>0</th>\n",
       "      <td>19</td>\n",
       "      <td>female</td>\n",
       "      <td>27.900</td>\n",
       "      <td>0</td>\n",
       "      <td>yes</td>\n",
       "      <td>southwest</td>\n",
       "      <td>16884.92400</td>\n",
       "    </tr>\n",
       "    <tr>\n",
       "      <th>1</th>\n",
       "      <td>18</td>\n",
       "      <td>male</td>\n",
       "      <td>33.770</td>\n",
       "      <td>1</td>\n",
       "      <td>no</td>\n",
       "      <td>southeast</td>\n",
       "      <td>1725.55230</td>\n",
       "    </tr>\n",
       "    <tr>\n",
       "      <th>2</th>\n",
       "      <td>28</td>\n",
       "      <td>male</td>\n",
       "      <td>33.000</td>\n",
       "      <td>3</td>\n",
       "      <td>no</td>\n",
       "      <td>southeast</td>\n",
       "      <td>4449.46200</td>\n",
       "    </tr>\n",
       "    <tr>\n",
       "      <th>3</th>\n",
       "      <td>33</td>\n",
       "      <td>male</td>\n",
       "      <td>22.705</td>\n",
       "      <td>0</td>\n",
       "      <td>no</td>\n",
       "      <td>northwest</td>\n",
       "      <td>21984.47061</td>\n",
       "    </tr>\n",
       "    <tr>\n",
       "      <th>4</th>\n",
       "      <td>32</td>\n",
       "      <td>male</td>\n",
       "      <td>28.880</td>\n",
       "      <td>0</td>\n",
       "      <td>no</td>\n",
       "      <td>northwest</td>\n",
       "      <td>3866.85520</td>\n",
       "    </tr>\n",
       "  </tbody>\n",
       "</table>\n",
       "</div>"
      ],
      "text/plain": [
       "   age     sex     bmi  children smoker     region      charges\n",
       "0   19  female  27.900         0    yes  southwest  16884.92400\n",
       "1   18    male  33.770         1     no  southeast   1725.55230\n",
       "2   28    male  33.000         3     no  southeast   4449.46200\n",
       "3   33    male  22.705         0     no  northwest  21984.47061\n",
       "4   32    male  28.880         0     no  northwest   3866.85520"
      ]
     },
     "execution_count": 11,
     "metadata": {},
     "output_type": "execute_result"
    }
   ],
   "source": [
    "df.head()"
   ]
  },
  {
   "cell_type": "code",
   "execution_count": 12,
   "id": "24d1b0fb",
   "metadata": {
    "execution": {
     "iopub.execute_input": "2021-12-23T20:34:26.491783Z",
     "iopub.status.busy": "2021-12-23T20:34:26.490781Z",
     "iopub.status.idle": "2021-12-23T20:34:27.387991Z",
     "shell.execute_reply": "2021-12-23T20:34:27.387330Z",
     "shell.execute_reply.started": "2021-12-23T20:32:23.933560Z"
    },
    "papermill": {
     "duration": 0.923808,
     "end_time": "2021-12-23T20:34:27.388166",
     "exception": false,
     "start_time": "2021-12-23T20:34:26.464358",
     "status": "completed"
    },
    "tags": []
   },
   "outputs": [
    {
     "data": {
      "text/html": [
       "<div>\n",
       "<style scoped>\n",
       "    .dataframe tbody tr th:only-of-type {\n",
       "        vertical-align: middle;\n",
       "    }\n",
       "\n",
       "    .dataframe tbody tr th {\n",
       "        vertical-align: top;\n",
       "    }\n",
       "\n",
       "    .dataframe thead th {\n",
       "        text-align: right;\n",
       "    }\n",
       "</style>\n",
       "<table border=\"1\" class=\"dataframe\">\n",
       "  <thead>\n",
       "    <tr style=\"text-align: right;\">\n",
       "      <th></th>\n",
       "      <th>age</th>\n",
       "      <th>sex</th>\n",
       "      <th>bmi</th>\n",
       "      <th>children</th>\n",
       "      <th>smoker</th>\n",
       "      <th>region</th>\n",
       "      <th>charges</th>\n",
       "    </tr>\n",
       "  </thead>\n",
       "  <tbody>\n",
       "    <tr>\n",
       "      <th>0</th>\n",
       "      <td>19</td>\n",
       "      <td>0</td>\n",
       "      <td>27.900</td>\n",
       "      <td>0</td>\n",
       "      <td>1</td>\n",
       "      <td>3</td>\n",
       "      <td>16884.92400</td>\n",
       "    </tr>\n",
       "    <tr>\n",
       "      <th>1</th>\n",
       "      <td>18</td>\n",
       "      <td>1</td>\n",
       "      <td>33.770</td>\n",
       "      <td>1</td>\n",
       "      <td>0</td>\n",
       "      <td>2</td>\n",
       "      <td>1725.55230</td>\n",
       "    </tr>\n",
       "    <tr>\n",
       "      <th>2</th>\n",
       "      <td>28</td>\n",
       "      <td>1</td>\n",
       "      <td>33.000</td>\n",
       "      <td>3</td>\n",
       "      <td>0</td>\n",
       "      <td>2</td>\n",
       "      <td>4449.46200</td>\n",
       "    </tr>\n",
       "    <tr>\n",
       "      <th>3</th>\n",
       "      <td>33</td>\n",
       "      <td>1</td>\n",
       "      <td>22.705</td>\n",
       "      <td>0</td>\n",
       "      <td>0</td>\n",
       "      <td>1</td>\n",
       "      <td>21984.47061</td>\n",
       "    </tr>\n",
       "    <tr>\n",
       "      <th>4</th>\n",
       "      <td>32</td>\n",
       "      <td>1</td>\n",
       "      <td>28.880</td>\n",
       "      <td>0</td>\n",
       "      <td>0</td>\n",
       "      <td>1</td>\n",
       "      <td>3866.85520</td>\n",
       "    </tr>\n",
       "    <tr>\n",
       "      <th>...</th>\n",
       "      <td>...</td>\n",
       "      <td>...</td>\n",
       "      <td>...</td>\n",
       "      <td>...</td>\n",
       "      <td>...</td>\n",
       "      <td>...</td>\n",
       "      <td>...</td>\n",
       "    </tr>\n",
       "    <tr>\n",
       "      <th>1333</th>\n",
       "      <td>50</td>\n",
       "      <td>1</td>\n",
       "      <td>30.970</td>\n",
       "      <td>3</td>\n",
       "      <td>0</td>\n",
       "      <td>1</td>\n",
       "      <td>10600.54830</td>\n",
       "    </tr>\n",
       "    <tr>\n",
       "      <th>1334</th>\n",
       "      <td>18</td>\n",
       "      <td>0</td>\n",
       "      <td>31.920</td>\n",
       "      <td>0</td>\n",
       "      <td>0</td>\n",
       "      <td>0</td>\n",
       "      <td>2205.98080</td>\n",
       "    </tr>\n",
       "    <tr>\n",
       "      <th>1335</th>\n",
       "      <td>18</td>\n",
       "      <td>0</td>\n",
       "      <td>36.850</td>\n",
       "      <td>0</td>\n",
       "      <td>0</td>\n",
       "      <td>2</td>\n",
       "      <td>1629.83350</td>\n",
       "    </tr>\n",
       "    <tr>\n",
       "      <th>1336</th>\n",
       "      <td>21</td>\n",
       "      <td>0</td>\n",
       "      <td>25.800</td>\n",
       "      <td>0</td>\n",
       "      <td>0</td>\n",
       "      <td>3</td>\n",
       "      <td>2007.94500</td>\n",
       "    </tr>\n",
       "    <tr>\n",
       "      <th>1337</th>\n",
       "      <td>61</td>\n",
       "      <td>0</td>\n",
       "      <td>29.070</td>\n",
       "      <td>0</td>\n",
       "      <td>1</td>\n",
       "      <td>1</td>\n",
       "      <td>29141.36030</td>\n",
       "    </tr>\n",
       "  </tbody>\n",
       "</table>\n",
       "<p>1337 rows × 7 columns</p>\n",
       "</div>"
      ],
      "text/plain": [
       "      age  sex     bmi  children  smoker  region      charges\n",
       "0      19    0  27.900         0       1       3  16884.92400\n",
       "1      18    1  33.770         1       0       2   1725.55230\n",
       "2      28    1  33.000         3       0       2   4449.46200\n",
       "3      33    1  22.705         0       0       1  21984.47061\n",
       "4      32    1  28.880         0       0       1   3866.85520\n",
       "...   ...  ...     ...       ...     ...     ...          ...\n",
       "1333   50    1  30.970         3       0       1  10600.54830\n",
       "1334   18    0  31.920         0       0       0   2205.98080\n",
       "1335   18    0  36.850         0       0       2   1629.83350\n",
       "1336   21    0  25.800         0       0       3   2007.94500\n",
       "1337   61    0  29.070         0       1       1  29141.36030\n",
       "\n",
       "[1337 rows x 7 columns]"
      ]
     },
     "execution_count": 12,
     "metadata": {},
     "output_type": "execute_result"
    }
   ],
   "source": [
    "# label encoder\n",
    "\n",
    "from sklearn import preprocessing\n",
    "le = preprocessing.LabelEncoder()\n",
    "le2 = preprocessing.LabelEncoder()\n",
    "le3 = preprocessing.LabelEncoder()\n",
    "le.fit(df['region'])\n",
    "le2.fit(df['smoker'])\n",
    "le3.fit(df['sex'])\n",
    "#le.classes_\n",
    "df['region'] = le.transform(df['region'])\n",
    "df['smoker'] = le2.transform(df['smoker'])\n",
    "df['sex'] = le3.transform(df['sex'])\n",
    "df"
   ]
  },
  {
   "cell_type": "code",
   "execution_count": null,
   "id": "21195660",
   "metadata": {
    "jupyter": {
     "source_hidden": true
    },
    "papermill": {
     "duration": 0.024669,
     "end_time": "2021-12-23T20:34:27.437358",
     "exception": false,
     "start_time": "2021-12-23T20:34:27.412689",
     "status": "completed"
    },
    "tags": []
   },
   "outputs": [],
   "source": []
  },
  {
   "cell_type": "code",
   "execution_count": 13,
   "id": "5ea869cb",
   "metadata": {
    "execution": {
     "iopub.execute_input": "2021-12-23T20:34:27.488965Z",
     "iopub.status.busy": "2021-12-23T20:34:27.488324Z",
     "iopub.status.idle": "2021-12-23T20:34:27.510088Z",
     "shell.execute_reply": "2021-12-23T20:34:27.509505Z",
     "shell.execute_reply.started": "2021-12-23T20:32:23.965507Z"
    },
    "papermill": {
     "duration": 0.048879,
     "end_time": "2021-12-23T20:34:27.510263",
     "exception": false,
     "start_time": "2021-12-23T20:34:27.461384",
     "status": "completed"
    },
    "tags": []
   },
   "outputs": [
    {
     "name": "stdout",
     "output_type": "stream",
     "text": [
      "age \n",
      " Empty DataFrame\n",
      "Columns: [age, sex, bmi, children, smoker, region, charges]\n",
      "Index: []\n",
      "bmi \n",
      "       age  sex    bmi  children  smoker  region     charges\n",
      "1047   22    1  52.58         1       1       2  44501.3982\n",
      "1317   18    1  53.13         0       0       2   1163.4627\n",
      "charges \n",
      "       age  sex     bmi  children  smoker  region      charges\n",
      "543    54    0  47.410         0       1       2  63770.42801\n",
      "577    31    0  38.095         1       1       0  58571.07448\n",
      "1230   52    1  34.485         3       1       1  60021.39897\n",
      "1300   45    1  30.360         0       1       2  62592.87309\n"
     ]
    }
   ],
   "source": [
    "# check for outliers \n",
    "thres = 3.5\n",
    "for col in ['age','bmi','charges']:\n",
    "    mean = df[col].mean()\n",
    "    std = df[col].std()\n",
    "    print(col,'\\n', df.loc[((df[col]-mean)/std) > thres])\n",
    "    df=df.loc[((df[col]-mean)/std) < thres]\n",
    "        "
   ]
  },
  {
   "cell_type": "code",
   "execution_count": 14,
   "id": "2310bb8f",
   "metadata": {
    "execution": {
     "iopub.execute_input": "2021-12-23T20:34:27.564113Z",
     "iopub.status.busy": "2021-12-23T20:34:27.563404Z",
     "iopub.status.idle": "2021-12-23T20:34:27.578365Z",
     "shell.execute_reply": "2021-12-23T20:34:27.578859Z",
     "shell.execute_reply.started": "2021-12-23T20:32:23.987706Z"
    },
    "papermill": {
     "duration": 0.043868,
     "end_time": "2021-12-23T20:34:27.579071",
     "exception": false,
     "start_time": "2021-12-23T20:34:27.535203",
     "status": "completed"
    },
    "tags": []
   },
   "outputs": [
    {
     "data": {
      "text/html": [
       "<div>\n",
       "<style scoped>\n",
       "    .dataframe tbody tr th:only-of-type {\n",
       "        vertical-align: middle;\n",
       "    }\n",
       "\n",
       "    .dataframe tbody tr th {\n",
       "        vertical-align: top;\n",
       "    }\n",
       "\n",
       "    .dataframe thead th {\n",
       "        text-align: right;\n",
       "    }\n",
       "</style>\n",
       "<table border=\"1\" class=\"dataframe\">\n",
       "  <thead>\n",
       "    <tr style=\"text-align: right;\">\n",
       "      <th></th>\n",
       "      <th>age</th>\n",
       "      <th>sex</th>\n",
       "      <th>bmi</th>\n",
       "      <th>children</th>\n",
       "      <th>smoker</th>\n",
       "      <th>region</th>\n",
       "      <th>charges</th>\n",
       "    </tr>\n",
       "  </thead>\n",
       "  <tbody>\n",
       "    <tr>\n",
       "      <th>0</th>\n",
       "      <td>19</td>\n",
       "      <td>0</td>\n",
       "      <td>27.900</td>\n",
       "      <td>0</td>\n",
       "      <td>1</td>\n",
       "      <td>3</td>\n",
       "      <td>16884.92400</td>\n",
       "    </tr>\n",
       "    <tr>\n",
       "      <th>1</th>\n",
       "      <td>18</td>\n",
       "      <td>1</td>\n",
       "      <td>33.770</td>\n",
       "      <td>1</td>\n",
       "      <td>0</td>\n",
       "      <td>2</td>\n",
       "      <td>1725.55230</td>\n",
       "    </tr>\n",
       "    <tr>\n",
       "      <th>2</th>\n",
       "      <td>28</td>\n",
       "      <td>1</td>\n",
       "      <td>33.000</td>\n",
       "      <td>3</td>\n",
       "      <td>0</td>\n",
       "      <td>2</td>\n",
       "      <td>4449.46200</td>\n",
       "    </tr>\n",
       "    <tr>\n",
       "      <th>3</th>\n",
       "      <td>33</td>\n",
       "      <td>1</td>\n",
       "      <td>22.705</td>\n",
       "      <td>0</td>\n",
       "      <td>0</td>\n",
       "      <td>1</td>\n",
       "      <td>21984.47061</td>\n",
       "    </tr>\n",
       "    <tr>\n",
       "      <th>4</th>\n",
       "      <td>32</td>\n",
       "      <td>1</td>\n",
       "      <td>28.880</td>\n",
       "      <td>0</td>\n",
       "      <td>0</td>\n",
       "      <td>1</td>\n",
       "      <td>3866.85520</td>\n",
       "    </tr>\n",
       "    <tr>\n",
       "      <th>...</th>\n",
       "      <td>...</td>\n",
       "      <td>...</td>\n",
       "      <td>...</td>\n",
       "      <td>...</td>\n",
       "      <td>...</td>\n",
       "      <td>...</td>\n",
       "      <td>...</td>\n",
       "    </tr>\n",
       "    <tr>\n",
       "      <th>1333</th>\n",
       "      <td>50</td>\n",
       "      <td>1</td>\n",
       "      <td>30.970</td>\n",
       "      <td>3</td>\n",
       "      <td>0</td>\n",
       "      <td>1</td>\n",
       "      <td>10600.54830</td>\n",
       "    </tr>\n",
       "    <tr>\n",
       "      <th>1334</th>\n",
       "      <td>18</td>\n",
       "      <td>0</td>\n",
       "      <td>31.920</td>\n",
       "      <td>0</td>\n",
       "      <td>0</td>\n",
       "      <td>0</td>\n",
       "      <td>2205.98080</td>\n",
       "    </tr>\n",
       "    <tr>\n",
       "      <th>1335</th>\n",
       "      <td>18</td>\n",
       "      <td>0</td>\n",
       "      <td>36.850</td>\n",
       "      <td>0</td>\n",
       "      <td>0</td>\n",
       "      <td>2</td>\n",
       "      <td>1629.83350</td>\n",
       "    </tr>\n",
       "    <tr>\n",
       "      <th>1336</th>\n",
       "      <td>21</td>\n",
       "      <td>0</td>\n",
       "      <td>25.800</td>\n",
       "      <td>0</td>\n",
       "      <td>0</td>\n",
       "      <td>3</td>\n",
       "      <td>2007.94500</td>\n",
       "    </tr>\n",
       "    <tr>\n",
       "      <th>1337</th>\n",
       "      <td>61</td>\n",
       "      <td>0</td>\n",
       "      <td>29.070</td>\n",
       "      <td>0</td>\n",
       "      <td>1</td>\n",
       "      <td>1</td>\n",
       "      <td>29141.36030</td>\n",
       "    </tr>\n",
       "  </tbody>\n",
       "</table>\n",
       "<p>1331 rows × 7 columns</p>\n",
       "</div>"
      ],
      "text/plain": [
       "      age  sex     bmi  children  smoker  region      charges\n",
       "0      19    0  27.900         0       1       3  16884.92400\n",
       "1      18    1  33.770         1       0       2   1725.55230\n",
       "2      28    1  33.000         3       0       2   4449.46200\n",
       "3      33    1  22.705         0       0       1  21984.47061\n",
       "4      32    1  28.880         0       0       1   3866.85520\n",
       "...   ...  ...     ...       ...     ...     ...          ...\n",
       "1333   50    1  30.970         3       0       1  10600.54830\n",
       "1334   18    0  31.920         0       0       0   2205.98080\n",
       "1335   18    0  36.850         0       0       2   1629.83350\n",
       "1336   21    0  25.800         0       0       3   2007.94500\n",
       "1337   61    0  29.070         0       1       1  29141.36030\n",
       "\n",
       "[1331 rows x 7 columns]"
      ]
     },
     "execution_count": 14,
     "metadata": {},
     "output_type": "execute_result"
    }
   ],
   "source": [
    "df"
   ]
  },
  {
   "cell_type": "code",
   "execution_count": 15,
   "id": "7da3ae6d",
   "metadata": {
    "execution": {
     "iopub.execute_input": "2021-12-23T20:34:27.635075Z",
     "iopub.status.busy": "2021-12-23T20:34:27.634219Z",
     "iopub.status.idle": "2021-12-23T20:34:27.787651Z",
     "shell.execute_reply": "2021-12-23T20:34:27.788289Z",
     "shell.execute_reply.started": "2021-12-23T20:32:24.005511Z"
    },
    "papermill": {
     "duration": 0.184971,
     "end_time": "2021-12-23T20:34:27.788484",
     "exception": false,
     "start_time": "2021-12-23T20:34:27.603513",
     "status": "completed"
    },
    "tags": []
   },
   "outputs": [
    {
     "data": {
      "text/plain": [
       "LinearRegression()"
      ]
     },
     "execution_count": 15,
     "metadata": {},
     "output_type": "execute_result"
    }
   ],
   "source": [
    "# Run mulitvariate linear regression\n",
    "from sklearn.linear_model import LinearRegression\n",
    "from sklearn.model_selection import train_test_split\n",
    "#check relationship between variables\n",
    "#plt.scatter(df['age'], df['bmi'], color='red')\n",
    "#plt.scatter(df['age'], df['charges'], color='blue')\n",
    "#plt.scatter(df['bmi'], df['charges'], color='blue')\n",
    "\n",
    "y = df['charges']\n",
    "x = df.drop(columns = 'charges')\n",
    "x_train, x_test, y_train, y_test = train_test_split(x, y, test_size=0.2, random_state=42)\n",
    "regr = LinearRegression()\n",
    "regr.fit(x_train, y_train)"
   ]
  },
  {
   "cell_type": "code",
   "execution_count": 16,
   "id": "3d83ef45",
   "metadata": {
    "execution": {
     "iopub.execute_input": "2021-12-23T20:34:27.847622Z",
     "iopub.status.busy": "2021-12-23T20:34:27.846635Z",
     "iopub.status.idle": "2021-12-23T20:34:27.851344Z",
     "shell.execute_reply": "2021-12-23T20:34:27.851902Z",
     "shell.execute_reply.started": "2021-12-23T20:32:24.027079Z"
    },
    "papermill": {
     "duration": 0.038957,
     "end_time": "2021-12-23T20:34:27.852114",
     "exception": false,
     "start_time": "2021-12-23T20:34:27.813157",
     "status": "completed"
    },
    "tags": []
   },
   "outputs": [
    {
     "name": "stdout",
     "output_type": "stream",
     "text": [
      "Coefficients:  [  256.73475309  -184.38517527   319.9929979    527.93908169\n",
      " 22795.29459478  -313.33601704]\n",
      "Intercept:  -11453.427518771907\n",
      "Score:  0.7991085917708144\n"
     ]
    }
   ],
   "source": [
    "print(\"Coefficients: \", regr.coef_)\n",
    "print(\"Intercept: \", regr.intercept_)\n",
    "print(\"Score: \", regr.score(x_test, y_test))"
   ]
  },
  {
   "cell_type": "code",
   "execution_count": 17,
   "id": "74b46e79",
   "metadata": {
    "execution": {
     "iopub.execute_input": "2021-12-23T20:34:27.907021Z",
     "iopub.status.busy": "2021-12-23T20:34:27.906372Z",
     "iopub.status.idle": "2021-12-23T20:34:27.920442Z",
     "shell.execute_reply": "2021-12-23T20:34:27.920979Z",
     "shell.execute_reply.started": "2021-12-23T20:32:24.039032Z"
    },
    "papermill": {
     "duration": 0.042926,
     "end_time": "2021-12-23T20:34:27.921205",
     "exception": false,
     "start_time": "2021-12-23T20:34:27.878279",
     "status": "completed"
    },
    "tags": []
   },
   "outputs": [
    {
     "data": {
      "text/plain": [
       "LinearRegression()"
      ]
     },
     "execution_count": 17,
     "metadata": {},
     "output_type": "execute_result"
    }
   ],
   "source": [
    "# standardization of the dataframe to improve accuracy\n",
    "from sklearn.preprocessing import StandardScaler\n",
    "\n",
    "scaler = StandardScaler()\n",
    "x_train_scaled = scaler.fit_transform(x_train)\n",
    "y_train_scaled = scaler.fit_transform(pd.DataFrame(y_train))\n",
    "regr_scaled = LinearRegression()\n",
    "regr_scaled.fit(x_train_scaled, y_train_scaled)"
   ]
  },
  {
   "cell_type": "code",
   "execution_count": 18,
   "id": "944cf637",
   "metadata": {
    "execution": {
     "iopub.execute_input": "2021-12-23T20:34:27.976265Z",
     "iopub.status.busy": "2021-12-23T20:34:27.975592Z",
     "iopub.status.idle": "2021-12-23T20:34:27.989158Z",
     "shell.execute_reply": "2021-12-23T20:34:27.989697Z",
     "shell.execute_reply.started": "2021-12-23T20:32:24.058707Z"
    },
    "papermill": {
     "duration": 0.04291,
     "end_time": "2021-12-23T20:34:27.989901",
     "exception": false,
     "start_time": "2021-12-23T20:34:27.946991",
     "status": "completed"
    },
    "tags": []
   },
   "outputs": [
    {
     "name": "stdout",
     "output_type": "stream",
     "text": [
      "Coefficients:  [[ 0.31149443 -0.00797722  0.16647603  0.05495826  0.7822671  -0.02962258]]\n",
      "Intercept:  [-2.800696e-16]\n",
      "Score:  0.8027805646063212\n"
     ]
    }
   ],
   "source": [
    "x_test_scaled = scaler.fit_transform(x_test)\n",
    "y_test_scaled = scaler.fit_transform(pd.DataFrame(y_test))\n",
    "print(\"Coefficients: \", regr_scaled.coef_)\n",
    "print(\"Intercept: \", regr_scaled.intercept_)\n",
    "print(\"Score: \", regr_scaled.score(x_test_scaled, y_test_scaled))"
   ]
  },
  {
   "cell_type": "code",
   "execution_count": 19,
   "id": "a7fbce45",
   "metadata": {
    "execution": {
     "iopub.execute_input": "2021-12-23T20:34:28.046591Z",
     "iopub.status.busy": "2021-12-23T20:34:28.044678Z",
     "iopub.status.idle": "2021-12-23T20:34:28.125798Z",
     "shell.execute_reply": "2021-12-23T20:34:28.126361Z",
     "shell.execute_reply.started": "2021-12-23T20:32:24.077682Z"
    },
    "papermill": {
     "duration": 0.110758,
     "end_time": "2021-12-23T20:34:28.126554",
     "exception": false,
     "start_time": "2021-12-23T20:34:28.015796",
     "status": "completed"
    },
    "tags": []
   },
   "outputs": [
    {
     "data": {
      "text/plain": [
       "array([0.   , 0.053, 0.   , 0.011, 0.   , 0.963])"
      ]
     },
     "execution_count": 19,
     "metadata": {},
     "output_type": "execute_result"
    }
   ],
   "source": [
    "#F_regression\n",
    "from sklearn.feature_selection import f_regression\n",
    "\n",
    "f_stat, p_val = f_regression(x_train, y_train)\n",
    "p_val.round(3)\n",
    "\n",
    "#P_values are = array([0.   , 0.053, 0.   , 0.011, 0.   , 0.963])\n",
    "#the second and fourth variable has p_values greater than 0.05 but we can choose to remove the fourth variable"
   ]
  },
  {
   "cell_type": "code",
   "execution_count": 20,
   "id": "267ea67f",
   "metadata": {
    "execution": {
     "iopub.execute_input": "2021-12-23T20:34:28.182163Z",
     "iopub.status.busy": "2021-12-23T20:34:28.181474Z",
     "iopub.status.idle": "2021-12-23T20:34:28.186144Z",
     "shell.execute_reply": "2021-12-23T20:34:28.186619Z",
     "shell.execute_reply.started": "2021-12-23T20:32:24.090401Z"
    },
    "papermill": {
     "duration": 0.034468,
     "end_time": "2021-12-23T20:34:28.186838",
     "exception": false,
     "start_time": "2021-12-23T20:34:28.152370",
     "status": "completed"
    },
    "tags": []
   },
   "outputs": [],
   "source": [
    "#removing the 4th variable ('region') after f_regression\n",
    "df1 = df.drop(columns = 'region')"
   ]
  },
  {
   "cell_type": "code",
   "execution_count": 21,
   "id": "9d412164",
   "metadata": {
    "execution": {
     "iopub.execute_input": "2021-12-23T20:34:28.243176Z",
     "iopub.status.busy": "2021-12-23T20:34:28.242475Z",
     "iopub.status.idle": "2021-12-23T20:34:28.269490Z",
     "shell.execute_reply": "2021-12-23T20:34:28.270240Z",
     "shell.execute_reply.started": "2021-12-23T20:32:36.502298Z"
    },
    "papermill": {
     "duration": 0.057236,
     "end_time": "2021-12-23T20:34:28.270501",
     "exception": false,
     "start_time": "2021-12-23T20:34:28.213265",
     "status": "completed"
    },
    "tags": []
   },
   "outputs": [
    {
     "name": "stdout",
     "output_type": "stream",
     "text": [
      "Coefficients:  [[ 0.31214095 -0.00756935  0.16151632  0.05495298  0.78208409]]\n",
      "Intercept:  [-2.81195031e-16]\n",
      "Score:  0.8015224821248985\n"
     ]
    }
   ],
   "source": [
    "#linear regression with feature scaling after removing the 4th variable ('region')\n",
    "y1 = df1['charges']\n",
    "x1 = df1.drop(columns = 'charges')\n",
    "x_train1, x_test1, y_train1, y_test1 = train_test_split(x1, y1, test_size=0.2, random_state=42)\n",
    "x_train1_scaled = scaler.fit_transform(x_train1)\n",
    "y_train1_scaled = scaler.fit_transform(pd.DataFrame(y_train1))\n",
    "regr1 = LinearRegression()\n",
    "regr1.fit(x_train1_scaled, y_train1_scaled)\n",
    "x_test1_scaled = scaler.fit_transform(x_test1)\n",
    "y_test1_scaled = scaler.fit_transform(pd.DataFrame(y_test1))\n",
    "print(\"Coefficients: \", regr1.coef_)\n",
    "print(\"Intercept: \", regr1.intercept_)\n",
    "print(\"Score: \", regr1.score(x_test1_scaled, y_test1_scaled))\n",
    "\n",
    "#Removing the 4th variable didnot improve the accuracy. Hence \"regr_scaled\" is chosen as the final model"
   ]
  },
  {
   "cell_type": "code",
   "execution_count": null,
   "id": "08fdbe3b",
   "metadata": {
    "papermill": {
     "duration": 0.025712,
     "end_time": "2021-12-23T20:34:28.323212",
     "exception": false,
     "start_time": "2021-12-23T20:34:28.297500",
     "status": "completed"
    },
    "tags": []
   },
   "outputs": [],
   "source": []
  }
 ],
 "metadata": {
  "kernelspec": {
   "display_name": "Python 3",
   "language": "python",
   "name": "python3"
  },
  "language_info": {
   "codemirror_mode": {
    "name": "ipython",
    "version": 3
   },
   "file_extension": ".py",
   "mimetype": "text/x-python",
   "name": "python",
   "nbconvert_exporter": "python",
   "pygments_lexer": "ipython3",
   "version": "3.7.10"
  },
  "papermill": {
   "default_parameters": {},
   "duration": 13.40394,
   "end_time": "2021-12-23T20:34:29.260942",
   "environment_variables": {},
   "exception": null,
   "input_path": "__notebook__.ipynb",
   "output_path": "__notebook__.ipynb",
   "parameters": {},
   "start_time": "2021-12-23T20:34:15.857002",
   "version": "2.3.3"
  }
 },
 "nbformat": 4,
 "nbformat_minor": 5
}
